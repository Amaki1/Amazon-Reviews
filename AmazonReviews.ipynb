{
 "cells": [
  {
   "cell_type": "markdown",
   "id": "dca50294",
   "metadata": {},
   "source": [
    "# Amazon Reviews for Sentiment Analysis\n",
    "\n",
    "A few million Amazon reviews in fastText format\n",
    "DataSet from https://www.kaggle.com/datasets/bittlingmayer/amazonreviews"
   ]
  },
  {
   "cell_type": "markdown",
   "id": "200de442",
   "metadata": {},
   "source": [
    "## Import libraries"
   ]
  },
  {
   "cell_type": "code",
   "execution_count": 1,
   "metadata": {},
   "outputs": [],
   "source": [
    "import numpy as np\n",
    "import pandas as pd\n",
    "import matplotlib.pyplot as plt\n",
    "import seaborn as sns\n",
    "\n",
    "%matplotlib inline\n",
    "\n",
    "import nltk\n",
    "import random\n",
    "import string\n",
    "lemmatize=nltk.WordNetLemmatizer()\n",
    "from nltk.corpus import stopwords\n",
    "from sklearn.feature_extraction.text import CountVectorizer\n",
    "from sklearn.feature_extraction.text import TfidfTransformer\n",
    "\n",
    "from sklearn.pipeline import Pipeline\n",
    "from sklearn.naive_bayes import MultinomialNB\n",
    "from sklearn.metrics import classification_report"
   ]
  },
  {
   "cell_type": "code",
   "execution_count": 2,
   "id": "0e354dd6",
   "metadata": {},
   "outputs": [],
   "source": [
    "from tqdm import tqdm\n",
    "import bz2\n"
   ]
  },
  {
   "cell_type": "markdown",
   "id": "1d764128",
   "metadata": {},
   "source": [
    "## Import Data"
   ]
  },
  {
   "cell_type": "code",
   "execution_count": 3,
   "id": "6cdc99ef",
   "metadata": {},
   "outputs": [],
   "source": [
    "train_file = bz2.BZ2File('../train.ft.txt.bz2')\n",
    "test_file = bz2.BZ2File('../test.ft.txt.bz2')"
   ]
  },
  {
   "cell_type": "code",
   "execution_count": 4,
   "id": "33b68078",
   "metadata": {},
   "outputs": [],
   "source": [
    "train_lines = train_file.readlines()\n",
    "test_lines = test_file.readlines()"
   ]
  },
  {
   "cell_type": "code",
   "execution_count": 12,
   "id": "8284b546",
   "metadata": {},
   "outputs": [],
   "source": [
    "train_lines = [x.decode('utf-8') for x in train_lines]\n",
    "test_lines = [x.decode('utf-8') for x in test_lines]"
   ]
  },
  {
   "cell_type": "code",
   "execution_count": 14,
   "id": "48b14e0a",
   "metadata": {},
   "outputs": [
    {
     "data": {
      "text/plain": [
       "'__label__2'"
      ]
     },
     "execution_count": 14,
     "metadata": {},
     "output_type": "execute_result"
    }
   ],
   "source": [
    "train_lines[0].split(' ')[0]"
   ]
  },
  {
   "cell_type": "code",
   "execution_count": 19,
   "id": "7b0685cf",
   "metadata": {},
   "outputs": [
    {
     "data": {
      "text/plain": [
       "'Stuning even for the non-gamer: This sound track was beautiful! It paints the senery in your mind so well I would recomend it even to people who hate vid. game music! I have played the game Chrono Cross but out of all of the games I have ever played it has the best music! It backs away from crude keyboarding and takes a fresher step with grate guitars and soulful orchestras. It would impress anyone who cares to listen! ^_^\\n'"
      ]
     },
     "execution_count": 19,
     "metadata": {},
     "output_type": "execute_result"
    }
   ],
   "source": [
    "' '.join(train_lines[0].split(' ')[1:])"
   ]
  },
  {
   "cell_type": "code",
   "execution_count": 20,
   "id": "57618bbc",
   "metadata": {},
   "outputs": [
    {
     "data": {
      "text/plain": [
       "3600000"
      ]
     },
     "execution_count": 20,
     "metadata": {},
     "output_type": "execute_result"
    }
   ],
   "source": [
    "train_label = [\"negative\" if x.split(' ')[0] == '__label__1' else \"positive\" for x in train_lines ]\n",
    "len(train_label)"
   ]
  },
  {
   "cell_type": "code",
   "execution_count": 21,
   "id": "3be38a08",
   "metadata": {},
   "outputs": [
    {
     "data": {
      "text/plain": [
       "3600000"
      ]
     },
     "execution_count": 21,
     "metadata": {},
     "output_type": "execute_result"
    }
   ],
   "source": [
    "train_content = [' '.join(x.split(' ')[1:]) for x in train_lines ]\n",
    "len(train_content)"
   ]
  },
  {
   "cell_type": "code",
   "execution_count": 23,
   "id": "0cef16e4",
   "metadata": {},
   "outputs": [
    {
     "data": {
      "text/plain": [
       "'Stuning even for the non-gamer: This sound track was beautiful! It paints the senery in your mind so well I would recomend it even to people who hate vid. game music! I have played the game Chrono Cross but out of all of the games I have ever played it has the best music! It backs away from crude keyboarding and takes a fresher step with grate guitars and soulful orchestras. It would impress anyone who cares to listen! ^_^\\n'"
      ]
     },
     "execution_count": 23,
     "metadata": {},
     "output_type": "execute_result"
    }
   ],
   "source": [
    "train_content[0]"
   ]
  },
  {
   "cell_type": "code",
   "execution_count": 26,
   "id": "aa11863a",
   "metadata": {},
   "outputs": [
    {
     "data": {
      "text/html": [
       "<div>\n",
       "<style scoped>\n",
       "    .dataframe tbody tr th:only-of-type {\n",
       "        vertical-align: middle;\n",
       "    }\n",
       "\n",
       "    .dataframe tbody tr th {\n",
       "        vertical-align: top;\n",
       "    }\n",
       "\n",
       "    .dataframe thead th {\n",
       "        text-align: right;\n",
       "    }\n",
       "</style>\n",
       "<table border=\"1\" class=\"dataframe\">\n",
       "  <thead>\n",
       "    <tr style=\"text-align: right;\">\n",
       "      <th></th>\n",
       "      <th>label</th>\n",
       "      <th>content</th>\n",
       "    </tr>\n",
       "  </thead>\n",
       "  <tbody>\n",
       "    <tr>\n",
       "      <th>1031092</th>\n",
       "      <td>negative</td>\n",
       "      <td>Good modern fiction, poor science fiction: I'm...</td>\n",
       "    </tr>\n",
       "    <tr>\n",
       "      <th>2941114</th>\n",
       "      <td>positive</td>\n",
       "      <td>Great album: Even without the amps, Clapton's ...</td>\n",
       "    </tr>\n",
       "    <tr>\n",
       "      <th>2945297</th>\n",
       "      <td>negative</td>\n",
       "      <td>A text resource: It is true the book provides ...</td>\n",
       "    </tr>\n",
       "    <tr>\n",
       "      <th>1599571</th>\n",
       "      <td>positive</td>\n",
       "      <td>Extremely useful for the adventurous traveler....</td>\n",
       "    </tr>\n",
       "    <tr>\n",
       "      <th>2775993</th>\n",
       "      <td>positive</td>\n",
       "      <td>Nice heater, MADE IN USA: I bought this heater...</td>\n",
       "    </tr>\n",
       "  </tbody>\n",
       "</table>\n",
       "</div>"
      ],
      "text/plain": [
       "            label                                            content\n",
       "1031092  negative  Good modern fiction, poor science fiction: I'm...\n",
       "2941114  positive  Great album: Even without the amps, Clapton's ...\n",
       "2945297  negative  A text resource: It is true the book provides ...\n",
       "1599571  positive  Extremely useful for the adventurous traveler....\n",
       "2775993  positive  Nice heater, MADE IN USA: I bought this heater..."
      ]
     },
     "execution_count": 26,
     "metadata": {},
     "output_type": "execute_result"
    }
   ],
   "source": [
    "data = pd.DataFrame(list(zip(train_label, train_content)), columns =['label', 'content'])\n",
    "data.sample(5)"
   ]
  },
  {
   "cell_type": "code",
   "execution_count": null,
   "id": "7a8d6e9b",
   "metadata": {},
   "outputs": [],
   "source": []
  }
 ],
 "metadata": {
  "kernelspec": {
   "display_name": "Python 3.8.8 ('base')",
   "language": "python",
   "name": "python3"
  },
  "language_info": {
   "codemirror_mode": {
    "name": "ipython",
    "version": 3
   },
   "file_extension": ".py",
   "mimetype": "text/x-python",
   "name": "python",
   "nbconvert_exporter": "python",
   "pygments_lexer": "ipython3",
   "version": "3.8.8"
  },
  "vscode": {
   "interpreter": {
    "hash": "10173e47bdb0a318769fd9be76b11e5a139ce75dd1e3b48eae309abcc2ff272e"
   }
  }
 },
 "nbformat": 4,
 "nbformat_minor": 5
}
